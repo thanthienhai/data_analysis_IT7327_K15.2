{
 "cells": [
  {
   "cell_type": "markdown",
   "id": "4a628b47",
   "metadata": {},
   "source": [
    "# Cash Flow Forecasting với LSTM\n",
    "\n",
    "Notebook này sẽ hướng dẫn cách sử dụng pipeline LSTM để dự đoán dòng tiền của ngân hàng.\n",
    "\n",
    "## Mục lục\n",
    "1. [Cài đặt thư viện](#1-cài-đặt-thư-viện)\n",
    "2. [Import pipeline](#2-import-pipeline)\n",
    "3. [Chạy pipeline hoàn chỉnh](#3-chạy-pipeline-hoàn-chỉnh)\n",
    "4. [Phân tích kết quả chi tiết](#4-phân-tích-kết-quả-chi-tiết)\n",
    "5. [Tùy chỉnh dự đoán](#5-tùy-chỉnh-dự-đoán)"
   ]
  },
  {
   "cell_type": "markdown",
   "id": "53e25580",
   "metadata": {},
   "source": [
    "## 1. Cài đặt thư viện\n",
    "\n",
    "Chạy lệnh sau để cài đặt các thư viện cần thiết:"
   ]
  },
  {
   "cell_type": "code",
   "execution_count": null,
   "id": "64d2d5aa",
   "metadata": {},
   "outputs": [],
   "source": [
    "# Cài đặt requirements\n",
    "!pip install -r requirements.txt"
   ]
  },
  {
   "cell_type": "markdown",
   "id": "cfa4dbe9",
   "metadata": {},
   "source": [
    "## 2. Import pipeline"
   ]
  },
  {
   "cell_type": "code",
   "execution_count": null,
   "id": "fe9bcf96",
   "metadata": {},
   "outputs": [],
   "source": [
    "# Import pipeline\n",
    "from cash_flow_lstm_pipeline import CashFlowLSTMPipeline\n",
    "import pandas as pd\n",
    "import numpy as np\n",
    "import matplotlib.pyplot as plt\n",
    "import warnings\n",
    "warnings.filterwarnings('ignore')\n",
    "\n",
    "print(\"Pipeline đã được import thành công!\")"
   ]
  },
  {
   "cell_type": "markdown",
   "id": "080dd912",
   "metadata": {},
   "source": [
    "## 3. Chạy pipeline hoàn chỉnh\n",
    "\n",
    "Pipeline sẽ tự động:\n",
    "- Tải và xử lý dữ liệu từ tất cả các file CSV\n",
    "- Tạo features engineering\n",
    "- Training mô hình LSTM\n",
    "- Đánh giá mô hình\n",
    "- Dự đoán 30 ngày tới\n",
    "- Tạo biểu đồ và lưu kết quả"
   ]
  },
  {
   "cell_type": "code",
   "execution_count": null,
   "id": "65e1d552",
   "metadata": {},
   "outputs": [],
   "source": [
    "# Khởi tạo pipeline\n",
    "data_path = \"./\"  # Đường dẫn hiện tại chứa các file CSV\n",
    "pipeline = CashFlowLSTMPipeline(data_path)\n",
    "\n",
    "# Chạy pipeline hoàn chỉnh\n",
    "print(\"Bắt đầu chạy pipeline...\")\n",
    "results = pipeline.run_complete_pipeline(days_ahead=30)\n",
    "\n",
    "print(\"\\n🎉 Pipeline hoàn thành!\")"
   ]
  },
  {
   "cell_type": "markdown",
   "id": "a4768d87",
   "metadata": {},
   "source": [
    "## 4. Phân tích kết quả chi tiết"
   ]
  },
  {
   "cell_type": "code",
   "execution_count": null,
   "id": "90af57a0",
   "metadata": {},
   "outputs": [],
   "source": [
    "# Hiển thị metrics đánh giá mô hình\n",
    "print(\"📊 METRICS ĐÁNH GIÁ MÔ HÌNH:\")\n",
    "print(\"=\" * 40)\n",
    "for metric, value in results['metrics'].items():\n",
    "    if metric == 'MAPE':\n",
    "        print(f\"{metric:8s}: {value:8.2f}%\")\n",
    "    else:\n",
    "        print(f\"{metric:8s}: {value:8.4f}\")\n",
    "\n",
    "# Đánh giá chất lượng mô hình\n",
    "r2 = results['metrics']['R²']\n",
    "mape = results['metrics']['MAPE']\n",
    "\n",
    "print(\"\\n🎯 ĐÁNH GIÁ CHẤT LƯỢNG:\")\n",
    "if r2 > 0.8:\n",
    "    print(f\"✅ Mô hình rất tốt (R² = {r2:.3f})\")\n",
    "elif r2 > 0.6:\n",
    "    print(f\"✅ Mô hình tốt (R² = {r2:.3f})\")\n",
    "elif r2 > 0.4:\n",
    "    print(f\"⚠️ Mô hình trung bình (R² = {r2:.3f})\")\n",
    "else:\n",
    "    print(f\"❌ Mô hình cần cải thiện (R² = {r2:.3f})\")\n",
    "\n",
    "if mape < 10:\n",
    "    print(f\"✅ Độ chính xác cao (MAPE = {mape:.1f}%)\")\n",
    "elif mape < 20:\n",
    "    print(f\"✅ Độ chính xác tốt (MAPE = {mape:.1f}%)\")\n",
    "elif mape < 30:\n",
    "    print(f\"⚠️ Độ chính xác trung bình (MAPE = {mape:.1f}%)\")\n",
    "else:\n",
    "    print(f\"❌ Độ chính xác thấp (MAPE = {mape:.1f}%)\")"
   ]
  },
  {
   "cell_type": "code",
   "execution_count": null,
   "id": "754bf62b",
   "metadata": {},
   "outputs": [],
   "source": [
    "# Hiển thị thống kê dữ liệu\n",
    "print(\"📈 THỐNG KÊ DỮ LIỆU DÒNG TIỀN:\")\n",
    "print(\"=\" * 50)\n",
    "\n",
    "cash_flow_stats = results['cash_flow_data']['net_cash_flow'].describe()\n",
    "print(f\"Số ngày dữ liệu: {len(results['cash_flow_data'])}\")\n",
    "print(f\"Dòng tiền trung bình/ngày: {cash_flow_stats['mean']:,.0f}\")\n",
    "print(f\"Dòng tiền cao nhất: {cash_flow_stats['max']:,.0f}\")\n",
    "print(f\"Dòng tiền thấp nhất: {cash_flow_stats['min']:,.0f}\")\n",
    "print(f\"Độ lệch chuẩn: {cash_flow_stats['std']:,.0f}\")\n",
    "\n",
    "# Phân tích xu hướng\n",
    "positive_days = (results['cash_flow_data']['net_cash_flow'] > 0).sum()\n",
    "negative_days = (results['cash_flow_data']['net_cash_flow'] < 0).sum()\n",
    "print(f\"\\nSố ngày dòng tiền dương: {positive_days} ({positive_days/len(results['cash_flow_data'])*100:.1f}%)\")\n",
    "print(f\"Số ngày dòng tiền âm: {negative_days} ({negative_days/len(results['cash_flow_data'])*100:.1f}%)\")"
   ]
  },
  {
   "cell_type": "code",
   "execution_count": null,
   "id": "8597c787",
   "metadata": {},
   "outputs": [],
   "source": [
    "# Hiển thị dự đoán tương lai\n",
    "print(\"🔮 DỰ ĐOÁN DÒNG TIỀN 30 NGÀY TỚI:\")\n",
    "print(\"=\" * 60)\n",
    "\n",
    "future_df = results['future_predictions']\n",
    "\n",
    "# Hiển thị 10 ngày đầu\n",
    "print(\"10 ngày đầu:\")\n",
    "for i, (_, row) in enumerate(future_df.head(10).iterrows()):\n",
    "    date_str = row['date'].strftime('%Y-%m-%d (%A)')\n",
    "    cash_flow = row['predicted_cash_flow']\n",
    "    cumulative = row['predicted_cumulative_cash_flow']\n",
    "    \n",
    "    status = \"📈\" if cash_flow > 0 else \"📉\"\n",
    "    print(f\"{status} {date_str}: {cash_flow:>10,.0f} (Tích lũy: {cumulative:>12,.0f})\")\n",
    "\n",
    "# Thống kê dự đoán\n",
    "print(\"\\n📊 THỐNG KÊ DỰ ĐOÁN:\")\n",
    "future_stats = future_df['predicted_cash_flow'].describe()\n",
    "print(f\"Dòng tiền trung bình/ngày: {future_stats['mean']:,.0f}\")\n",
    "print(f\"Dòng tiền cao nhất: {future_stats['max']:,.0f}\")\n",
    "print(f\"Dòng tiền thấp nhất: {future_stats['min']:,.0f}\")\n",
    "\n",
    "# Dự đoán rủi ro\n",
    "negative_future_days = (future_df['predicted_cash_flow'] < 0).sum()\n",
    "if negative_future_days > 0:\n",
    "    print(f\"\\n⚠️ CẢNH BÁO: Có {negative_future_days} ngày dự kiến dòng tiền âm\")\n",
    "else:\n",
    "    print(f\"\\n✅ Dòng tiền dự kiến luôn dương trong 30 ngày tới\")"
   ]
  },
  {
   "cell_type": "markdown",
   "id": "d2f8202d",
   "metadata": {},
   "source": [
    "## 5. Tùy chỉnh dự đoán\n",
    "\n",
    "Bạn có thể thay đổi số ngày dự đoán và chạy lại:"
   ]
  },
  {
   "cell_type": "code",
   "execution_count": null,
   "id": "3269c0d8",
   "metadata": {},
   "outputs": [],
   "source": [
    "# Dự đoán cho 60 ngày\n",
    "print(\"🔮 Dự đoán cho 60 ngày tới...\")\n",
    "future_60_days = pipeline.predict_future(days_ahead=60)\n",
    "\n",
    "# Vẽ biểu đồ dự đoán 60 ngày\n",
    "plt.figure(figsize=(15, 8))\n",
    "\n",
    "# Subplot 1: Daily predictions\n",
    "plt.subplot(2, 1, 1)\n",
    "plt.plot(future_60_days['date'], future_60_days['predicted_cash_flow'], \n",
    "         color='red', marker='o', markersize=3, alpha=0.7)\n",
    "plt.title('Dự đoán dòng tiền hàng ngày - 60 ngày tới', fontsize=14, fontweight='bold')\n",
    "plt.ylabel('Dòng tiền (VND)')\n",
    "plt.grid(True, alpha=0.3)\n",
    "plt.xticks(rotation=45)\n",
    "\n",
    "# Subplot 2: Cumulative predictions\n",
    "plt.subplot(2, 1, 2)\n",
    "plt.plot(future_60_days['date'], future_60_days['predicted_cumulative_cash_flow'], \n",
    "         color='purple', linewidth=2, alpha=0.8)\n",
    "plt.title('Dự đoán dòng tiền tích lũy - 60 ngày tới', fontsize=14, fontweight='bold')\n",
    "plt.xlabel('Ngày')\n",
    "plt.ylabel('Dòng tiền tích lũy (VND)')\n",
    "plt.grid(True, alpha=0.3)\n",
    "plt.xticks(rotation=45)\n",
    "\n",
    "plt.tight_layout()\n",
    "plt.show()\n",
    "\n",
    "# Lưu dự đoán 60 ngày\n",
    "future_60_days.to_csv('future_60_days_predictions.csv', index=False)\n",
    "print(\"✅ Đã lưu dự đoán 60 ngày vào file 'future_60_days_predictions.csv'\")"
   ]
  },
  {
   "cell_type": "code",
   "execution_count": null,
   "id": "31ff1dd4",
   "metadata": {},
   "outputs": [],
   "source": [
    "# Phân tích theo tuần\n",
    "print(\"📅 PHÂN TÍCH DỰ ĐOÁN THEO TUẦN:\")\n",
    "print(\"=\" * 50)\n",
    "\n",
    "future_60_days['week'] = future_60_days['date'].dt.isocalendar().week\n",
    "weekly_analysis = future_60_days.groupby('week').agg({\n",
    "    'predicted_cash_flow': ['sum', 'mean', 'std'],\n",
    "    'date': ['min', 'max']\n",
    "}).round(0)\n",
    "\n",
    "weekly_analysis.columns = ['Total', 'Average', 'StdDev', 'Start_Date', 'End_Date']\n",
    "\n",
    "for week, row in weekly_analysis.iterrows():\n",
    "    status = \"📈\" if row['Total'] > 0 else \"📉\"\n",
    "    print(f\"{status} Tuần {week}: Tổng = {row['Total']:>10,.0f}, TB = {row['Average']:>8,.0f}\")"
   ]
  },
  {
   "cell_type": "markdown",
   "id": "9814c199",
   "metadata": {},
   "source": [
    "## 🎯 Kết luận\n",
    "\n",
    "Pipeline LSTM đã được triển khai thành công với các tính năng:\n",
    "\n",
    "### ✅ Đã hoàn thành:\n",
    "- Tích hợp tất cả 6 nguồn dữ liệu (deposits, loans, withdrawals, bond sales, operating expenses, interbank transfers)\n",
    "- Features engineering với đặc trưng thời gian và moving averages\n",
    "- Mô hình LSTM với 3 layers và regularization\n",
    "- Đánh giá mô hình với multiple metrics\n",
    "- Dự đoán tương lai với khả năng tùy chỉnh\n",
    "- Visualization và báo cáo tự động\n",
    "\n",
    "### 📊 Các file kết quả:\n",
    "- `model_evaluation_metrics.csv`: Metrics đánh giá mô hình\n",
    "- `future_cash_flow_predictions.csv`: Dự đoán 30 ngày\n",
    "- `processed_cash_flow_data.csv`: Dữ liệu đã xử lý\n",
    "- `cash_flow_analysis_results.png`: Biểu đồ phân tích\n",
    "\n",
    "### 🚀 Ứng dụng thực tế:\n",
    "- Quản lý thanh khoản ngân hàng\n",
    "- Dự đoán nhu cầu vốn\n",
    "- Cảnh báo rủi ro dòng tiền\n",
    "- Hỗ trợ quyết định đầu tư"
   ]
  }
 ],
 "metadata": {
  "language_info": {
   "name": "python"
  }
 },
 "nbformat": 4,
 "nbformat_minor": 5
}
